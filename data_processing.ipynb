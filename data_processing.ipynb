{
 "cells": [
  {
   "cell_type": "code",
   "execution_count": 36,
   "metadata": {},
   "outputs": [],
   "source": [
    "import os\n",
    "import pandas as pd\n",
    "import numpy as np"
   ]
  },
  {
   "cell_type": "code",
   "execution_count": 37,
   "metadata": {},
   "outputs": [],
   "source": [
    "# load the japanese phone dictionary \n",
    "def load_phone_dict(path):\n",
    "  phone_dict = list()\n",
    "  with open(path, 'r') as f:\n",
    "    for line in f:\n",
    "      phone_dict.append(line.strip())\n",
    "  return phone_dict  "
   ]
  },
  {
   "cell_type": "code",
   "execution_count": 38,
   "metadata": {},
   "outputs": [],
   "source": [
    "def phone_to_one_hot(phone, phone_dict):\n",
    "  tmp = list(np.zeros(len(phone_dict)))\n",
    "  if phone=='None':   \n",
    "    return tmp\n",
    "  else:\n",
    "    tmp[phone_dict.index(phone)] = 1.0\n",
    "    return tmp"
   ]
  },
  {
   "cell_type": "code",
   "execution_count": 39,
   "metadata": {},
   "outputs": [],
   "source": [
    "def time_to_frame(time, window_size, step_size):\n",
    "  number_windows=(time-2*window_size)//step_size\n",
    "  if number_windows >= 0:\n",
    "    return number_windows\n",
    "  else:\n",
    "    return 0"
   ]
  },
  {
   "cell_type": "code",
   "execution_count": 67,
   "metadata": {},
   "outputs": [
    {
     "name": "stdout",
     "output_type": "stream",
     "text": [
      "csv dictionary created\n"
     ]
    }
   ],
   "source": [
    "#### convert /mono/.labs to csv\n",
    "#### a floder under /mono/ called /csv/ will be created and it will hold all the csv files with current, next, before\n",
    "#### the format of one example will be shown below\n",
    "\n",
    "label_path = '/Users/ShiyuMu/Desktop/HTS-demo_NIT-SONG070-F001/data/labels/mono/'\n",
    "fileList = [label_path + f for f in os.listdir(label_path) if f.endswith('.lab')]\n",
    "try:\n",
    "  # create dictionary to hold all the csv file \n",
    "  os.mkdir(label_path + 'csv/');\n",
    "  print('csv dictionary created')\n",
    "except:\n",
    "  pass\n",
    "for file in fileList:\n",
    "  df = pd.read_csv(file, sep=\" \", header=None)\n",
    "  df.columns = [\"beg\", \"end\", \"current\"]\n",
    "  df['before'] = pd.Series(['None']).append(df['current']).reset_index(drop=True)\n",
    "  df['next'] = df['current'][1:].append(pd.Series(['None'])).reset_index(drop=True)\n",
    "  df.to_csv(label_path + 'csv/'+ file.split('/')[-1]+'.csv', sep='\\t', index=False)"
   ]
  },
  {
   "cell_type": "markdown",
   "metadata": {},
   "source": [
    "### example of loading csv files "
   ]
  },
  {
   "cell_type": "code",
   "execution_count": 68,
   "metadata": {},
   "outputs": [],
   "source": [
    "## this is the path we just created\n",
    "csv_path = label_path + 'csv/'\n",
    "# get all csv files \n",
    "csvList = [csv_path + f for f in os.listdir(csv_path) if f.endswith('.csv')]\n",
    "df_list = list()\n",
    "## add all csv files as dataframe to a list\n",
    "for file in csvList:\n",
    "  df = pd.read_csv(file, sep='\\t')\n",
    "  df_list.append(df)"
   ]
  },
  {
   "cell_type": "code",
   "execution_count": 70,
   "metadata": {},
   "outputs": [
    {
     "data": {
      "text/html": [
       "<div>\n",
       "<style scoped>\n",
       "    .dataframe tbody tr th:only-of-type {\n",
       "        vertical-align: middle;\n",
       "    }\n",
       "\n",
       "    .dataframe tbody tr th {\n",
       "        vertical-align: top;\n",
       "    }\n",
       "\n",
       "    .dataframe thead th {\n",
       "        text-align: right;\n",
       "    }\n",
       "</style>\n",
       "<table border=\"1\" class=\"dataframe\">\n",
       "  <thead>\n",
       "    <tr style=\"text-align: right;\">\n",
       "      <th></th>\n",
       "      <th>beg</th>\n",
       "      <th>end</th>\n",
       "      <th>current</th>\n",
       "      <th>before</th>\n",
       "      <th>next</th>\n",
       "    </tr>\n",
       "  </thead>\n",
       "  <tbody>\n",
       "    <tr>\n",
       "      <th>0</th>\n",
       "      <td>0</td>\n",
       "      <td>23800000</td>\n",
       "      <td>pau</td>\n",
       "      <td>None</td>\n",
       "      <td>n</td>\n",
       "    </tr>\n",
       "    <tr>\n",
       "      <th>1</th>\n",
       "      <td>23800000</td>\n",
       "      <td>24400000</td>\n",
       "      <td>n</td>\n",
       "      <td>pau</td>\n",
       "      <td>e</td>\n",
       "    </tr>\n",
       "    <tr>\n",
       "      <th>2</th>\n",
       "      <td>24400000</td>\n",
       "      <td>30450000</td>\n",
       "      <td>e</td>\n",
       "      <td>n</td>\n",
       "      <td>N</td>\n",
       "    </tr>\n",
       "    <tr>\n",
       "      <th>3</th>\n",
       "      <td>30450000</td>\n",
       "      <td>35800000</td>\n",
       "      <td>N</td>\n",
       "      <td>e</td>\n",
       "      <td>n</td>\n",
       "    </tr>\n",
       "    <tr>\n",
       "      <th>4</th>\n",
       "      <td>35800000</td>\n",
       "      <td>36200000</td>\n",
       "      <td>n</td>\n",
       "      <td>N</td>\n",
       "      <td>e</td>\n",
       "    </tr>\n",
       "  </tbody>\n",
       "</table>\n",
       "</div>"
      ],
      "text/plain": [
       "        beg       end current before next\n",
       "0         0  23800000     pau   None    n\n",
       "1  23800000  24400000       n    pau    e\n",
       "2  24400000  30450000       e      n    N\n",
       "3  30450000  35800000       N      e    n\n",
       "4  35800000  36200000       n      N    e"
      ]
     },
     "execution_count": 70,
     "metadata": {},
     "output_type": "execute_result"
    }
   ],
   "source": [
    "## the df_list contains 31 dataframe (since we have 31 dataset)\n",
    "## one dataframe will look like this. beg and end here indicates nonoseconds\n",
    "df_list[0].head()"
   ]
  },
  {
   "cell_type": "markdown",
   "metadata": {},
   "source": [
    "### load phoneme dictionary"
   ]
  },
  {
   "cell_type": "code",
   "execution_count": 47,
   "metadata": {},
   "outputs": [],
   "source": [
    "phone_dict_path = 'JPN_phone_dict.txt'\n",
    "phone_dict = load_phone_dict(phone_dict_path)"
   ]
  },
  {
   "cell_type": "markdown",
   "metadata": {},
   "source": [
    "### convert timestamps to frame numbers"
   ]
  },
  {
   "cell_type": "code",
   "execution_count": 49,
   "metadata": {},
   "outputs": [],
   "source": [
    "#### define window size and step size to convert timestamp to frame id\n",
    "window_size = 250000\n",
    "step_size = 100000\n",
    "\n",
    "for df in df_list:\n",
    "#   print(len(df['beg'].values))\n",
    "  for index in range(len(df['beg'].values)):\n",
    "#     print(index)\n",
    "    df['beg'].values[index] = time_to_frame(df['beg'].values[index], window_size, step_size)\n",
    "  for index in range(len(df['end'].values)):\n",
    "#     print(index)\n",
    "    df['end'].values[index] = time_to_frame(df['end'].values[index], window_size, step_size)"
   ]
  },
  {
   "cell_type": "code",
   "execution_count": 50,
   "metadata": {
    "scrolled": false
   },
   "outputs": [
    {
     "data": {
      "text/html": [
       "<div>\n",
       "<style scoped>\n",
       "    .dataframe tbody tr th:only-of-type {\n",
       "        vertical-align: middle;\n",
       "    }\n",
       "\n",
       "    .dataframe tbody tr th {\n",
       "        vertical-align: top;\n",
       "    }\n",
       "\n",
       "    .dataframe thead th {\n",
       "        text-align: right;\n",
       "    }\n",
       "</style>\n",
       "<table border=\"1\" class=\"dataframe\">\n",
       "  <thead>\n",
       "    <tr style=\"text-align: right;\">\n",
       "      <th></th>\n",
       "      <th>beg</th>\n",
       "      <th>end</th>\n",
       "      <th>current</th>\n",
       "      <th>before</th>\n",
       "      <th>next</th>\n",
       "    </tr>\n",
       "  </thead>\n",
       "  <tbody>\n",
       "    <tr>\n",
       "      <th>0</th>\n",
       "      <td>0</td>\n",
       "      <td>233</td>\n",
       "      <td>pau</td>\n",
       "      <td>None</td>\n",
       "      <td>n</td>\n",
       "    </tr>\n",
       "    <tr>\n",
       "      <th>1</th>\n",
       "      <td>233</td>\n",
       "      <td>239</td>\n",
       "      <td>n</td>\n",
       "      <td>pau</td>\n",
       "      <td>e</td>\n",
       "    </tr>\n",
       "    <tr>\n",
       "      <th>2</th>\n",
       "      <td>239</td>\n",
       "      <td>299</td>\n",
       "      <td>e</td>\n",
       "      <td>n</td>\n",
       "      <td>N</td>\n",
       "    </tr>\n",
       "    <tr>\n",
       "      <th>3</th>\n",
       "      <td>299</td>\n",
       "      <td>353</td>\n",
       "      <td>N</td>\n",
       "      <td>e</td>\n",
       "      <td>n</td>\n",
       "    </tr>\n",
       "    <tr>\n",
       "      <th>4</th>\n",
       "      <td>353</td>\n",
       "      <td>357</td>\n",
       "      <td>n</td>\n",
       "      <td>N</td>\n",
       "      <td>e</td>\n",
       "    </tr>\n",
       "  </tbody>\n",
       "</table>\n",
       "</div>"
      ],
      "text/plain": [
       "   beg  end current before next\n",
       "0    0  233     pau   None    n\n",
       "1  233  239       n    pau    e\n",
       "2  239  299       e      n    N\n",
       "3  299  353       N      e    n\n",
       "4  353  357       n      N    e"
      ]
     },
     "execution_count": 50,
     "metadata": {},
     "output_type": "execute_result"
    }
   ],
   "source": [
    "## now df_list contains 31 dataframe, one would be like this\n",
    "df_list[0].head()"
   ]
  },
  {
   "cell_type": "markdown",
   "metadata": {},
   "source": [
    "### Unfold all frames and list them one by one"
   ]
  },
  {
   "cell_type": "code",
   "execution_count": 26,
   "metadata": {},
   "outputs": [],
   "source": [
    "unfolded_df_list = list()\n",
    "for dataset in df_list:\n",
    "  unfold_list = list()\n",
    "  for index in range(dataset.shape[0]):\n",
    "    beg_ = dataset.iloc[index]['beg']\n",
    "    end_ = dataset.iloc[index]['end']\n",
    "    current_ = dataset.iloc[index]['current']\n",
    "    before_ = dataset.iloc[index]['before']\n",
    "    next_ = dataset.iloc[index]['next']\n",
    "    if index == 0:\n",
    "      unfold_list.append(['None', current_, next_])\n",
    "    else:\n",
    "      unfold_list.append([before_, current_, next_])\n",
    "    for i in range(beg_+1, end_):\n",
    "      unfold_list.append([before_, current_, next_])\n",
    "    if index == (dataset.shape[0] -1):\n",
    "      unfold_list.append([before_, current_, 'None'])\n",
    "    else:\n",
    "      unfold_list.append([before_, current_, next_])\n",
    "  unfold_df = pd.DataFrame(unfold_list, columns=['before', 'current', 'next'])\n",
    "  unfolded_df_list.append(unfold_df)"
   ]
  },
  {
   "cell_type": "code",
   "execution_count": 53,
   "metadata": {
    "scrolled": true
   },
   "outputs": [
    {
     "data": {
      "text/html": [
       "<div>\n",
       "<style scoped>\n",
       "    .dataframe tbody tr th:only-of-type {\n",
       "        vertical-align: middle;\n",
       "    }\n",
       "\n",
       "    .dataframe tbody tr th {\n",
       "        vertical-align: top;\n",
       "    }\n",
       "\n",
       "    .dataframe thead th {\n",
       "        text-align: right;\n",
       "    }\n",
       "</style>\n",
       "<table border=\"1\" class=\"dataframe\">\n",
       "  <thead>\n",
       "    <tr style=\"text-align: right;\">\n",
       "      <th></th>\n",
       "      <th>before</th>\n",
       "      <th>current</th>\n",
       "      <th>next</th>\n",
       "    </tr>\n",
       "  </thead>\n",
       "  <tbody>\n",
       "    <tr>\n",
       "      <th>0</th>\n",
       "      <td>None</td>\n",
       "      <td>pau</td>\n",
       "      <td>n</td>\n",
       "    </tr>\n",
       "    <tr>\n",
       "      <th>1</th>\n",
       "      <td>None</td>\n",
       "      <td>pau</td>\n",
       "      <td>n</td>\n",
       "    </tr>\n",
       "    <tr>\n",
       "      <th>2</th>\n",
       "      <td>None</td>\n",
       "      <td>pau</td>\n",
       "      <td>n</td>\n",
       "    </tr>\n",
       "    <tr>\n",
       "      <th>3</th>\n",
       "      <td>None</td>\n",
       "      <td>pau</td>\n",
       "      <td>n</td>\n",
       "    </tr>\n",
       "    <tr>\n",
       "      <th>4</th>\n",
       "      <td>None</td>\n",
       "      <td>pau</td>\n",
       "      <td>n</td>\n",
       "    </tr>\n",
       "  </tbody>\n",
       "</table>\n",
       "</div>"
      ],
      "text/plain": [
       "  before current next\n",
       "0   None     pau    n\n",
       "1   None     pau    n\n",
       "2   None     pau    n\n",
       "3   None     pau    n\n",
       "4   None     pau    n"
      ]
     },
     "execution_count": 53,
     "metadata": {},
     "output_type": "execute_result"
    }
   ],
   "source": [
    "## now unfolded_df_list is a list contains 31 dataframe, \n",
    "## one example would be like this, the index at the front means frame id\n",
    "unfolded_df_list[0].head()"
   ]
  },
  {
   "cell_type": "markdown",
   "metadata": {},
   "source": [
    "### save the unfolded dataframe to disk"
   ]
  },
  {
   "cell_type": "code",
   "execution_count": 71,
   "metadata": {},
   "outputs": [
    {
     "name": "stdout",
     "output_type": "stream",
     "text": [
      "unfolded folder created\n"
     ]
    }
   ],
   "source": [
    "### a folder under /mono/csv/ called /unfolded/ will becreated which holds all datafames like above\n",
    "try:\n",
    "  # create dictionary to hold all the unfolded file \n",
    "  os.mkdir(label_path + 'csv/unfolded/');\n",
    "  print('unfolded folder created')\n",
    "except:\n",
    "  print('folder already exist')\n",
    "  pass\n",
    "for i in range(len(csvList)):\n",
    "  unfolded_df_list[i].to_csv(label_path + 'csv/unfolded/'+ csvList[i].split('/')[-1], sep='\\t', index=False)"
   ]
  },
  {
   "cell_type": "markdown",
   "metadata": {},
   "source": [
    "### After you created all the files, you can load them back to memory easily\n"
   ]
  },
  {
   "cell_type": "markdown",
   "metadata": {},
   "source": [
    "## NOTICE, if you already have all the files saved, the code below is the only thing you need to load the file and start to work with your training. The code before is only for generating. "
   ]
  },
  {
   "cell_type": "code",
   "execution_count": 72,
   "metadata": {},
   "outputs": [],
   "source": [
    "## this is the path we just created\n",
    "unfolded_path = label_path + 'csv/unfolded/'\n",
    "# get all csv files \n",
    "fileNameList = [unfolded_path + f for f in os.listdir(unfolded_path) if f.endswith('.csv')]\n",
    "unfolded_df_list_ = list()\n",
    "## add all csv files as dataframe to a list\n",
    "for file in fileNameList:\n",
    "  df = pd.read_csv(file, sep='\\t')\n",
    "  unfolded_df_list_.append(df)"
   ]
  },
  {
   "cell_type": "code",
   "execution_count": 73,
   "metadata": {},
   "outputs": [
    {
     "data": {
      "text/html": [
       "<div>\n",
       "<style scoped>\n",
       "    .dataframe tbody tr th:only-of-type {\n",
       "        vertical-align: middle;\n",
       "    }\n",
       "\n",
       "    .dataframe tbody tr th {\n",
       "        vertical-align: top;\n",
       "    }\n",
       "\n",
       "    .dataframe thead th {\n",
       "        text-align: right;\n",
       "    }\n",
       "</style>\n",
       "<table border=\"1\" class=\"dataframe\">\n",
       "  <thead>\n",
       "    <tr style=\"text-align: right;\">\n",
       "      <th></th>\n",
       "      <th>before</th>\n",
       "      <th>current</th>\n",
       "      <th>next</th>\n",
       "    </tr>\n",
       "  </thead>\n",
       "  <tbody>\n",
       "    <tr>\n",
       "      <th>0</th>\n",
       "      <td>None</td>\n",
       "      <td>pau</td>\n",
       "      <td>n</td>\n",
       "    </tr>\n",
       "    <tr>\n",
       "      <th>1</th>\n",
       "      <td>None</td>\n",
       "      <td>pau</td>\n",
       "      <td>n</td>\n",
       "    </tr>\n",
       "    <tr>\n",
       "      <th>2</th>\n",
       "      <td>None</td>\n",
       "      <td>pau</td>\n",
       "      <td>n</td>\n",
       "    </tr>\n",
       "    <tr>\n",
       "      <th>3</th>\n",
       "      <td>None</td>\n",
       "      <td>pau</td>\n",
       "      <td>n</td>\n",
       "    </tr>\n",
       "    <tr>\n",
       "      <th>4</th>\n",
       "      <td>None</td>\n",
       "      <td>pau</td>\n",
       "      <td>n</td>\n",
       "    </tr>\n",
       "  </tbody>\n",
       "</table>\n",
       "</div>"
      ],
      "text/plain": [
       "  before current next\n",
       "0   None     pau    n\n",
       "1   None     pau    n\n",
       "2   None     pau    n\n",
       "3   None     pau    n\n",
       "4   None     pau    n"
      ]
     },
     "execution_count": 73,
     "metadata": {},
     "output_type": "execute_result"
    }
   ],
   "source": [
    "unfolded_df_list_[0].head()"
   ]
  },
  {
   "cell_type": "markdown",
   "metadata": {},
   "source": [
    "### of course you may also want the filename of this specify dataframe to match with raw files"
   ]
  },
  {
   "cell_type": "code",
   "execution_count": 74,
   "metadata": {},
   "outputs": [
    {
     "data": {
      "text/plain": [
       "'nitech_jp_song070_f001_010.lab.csv'"
      ]
     },
     "execution_count": 74,
     "metadata": {},
     "output_type": "execute_result"
    }
   ],
   "source": [
    "# the index of fileNameList maintains the same with unfolded_df_list_\n",
    "fileNameList[0].split('/')[-1]"
   ]
  },
  {
   "cell_type": "markdown",
   "metadata": {},
   "source": [
    "### get one-hot-vector, call phone_to_one_hot() to a specific phoneme"
   ]
  },
  {
   "cell_type": "code",
   "execution_count": 75,
   "metadata": {
    "scrolled": true
   },
   "outputs": [
    {
     "name": "stdout",
     "output_type": "stream",
     "text": [
      "sil [0.0, 1.0, 0.0, 0.0, 0.0, 0.0, 0.0, 0.0, 0.0, 0.0, 0.0, 0.0, 0.0, 0.0, 0.0, 0.0, 0.0, 0.0, 0.0, 0.0, 0.0, 0.0, 0.0, 0.0, 0.0, 0.0, 0.0, 0.0, 0.0, 0.0, 0.0, 0.0, 0.0, 0.0]\n"
     ]
    }
   ],
   "source": [
    "one_hot = phone_to_one_hot('sil', phone_dict)\n",
    "print('sil', one_hot)"
   ]
  },
  {
   "cell_type": "markdown",
   "metadata": {},
   "source": [
    "### to access one specifiy position"
   ]
  },
  {
   "cell_type": "code",
   "execution_count": 77,
   "metadata": {},
   "outputs": [
    {
     "data": {
      "text/plain": [
       "'pau'"
      ]
     },
     "execution_count": 77,
     "metadata": {},
     "output_type": "execute_result"
    }
   ],
   "source": [
    "### the first dataframe in the list, the index 0, and the current label\n",
    "unfolded_df_list_[0].iloc[0]['current']"
   ]
  }
 ],
 "metadata": {
  "kernelspec": {
   "display_name": "Python 3",
   "language": "python",
   "name": "python3"
  },
  "language_info": {
   "codemirror_mode": {
    "name": "ipython",
    "version": 3
   },
   "file_extension": ".py",
   "mimetype": "text/x-python",
   "name": "python",
   "nbconvert_exporter": "python",
   "pygments_lexer": "ipython3",
   "version": "3.6.2"
  }
 },
 "nbformat": 4,
 "nbformat_minor": 2
}
